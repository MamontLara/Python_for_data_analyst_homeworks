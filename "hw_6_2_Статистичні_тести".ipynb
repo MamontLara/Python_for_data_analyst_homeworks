{
  "cells": [
    {
      "cell_type": "markdown",
      "metadata": {
        "id": "view-in-github",
        "colab_type": "text"
      },
      "source": [
        "<a href=\"https://colab.research.google.com/github/MamontLara/Python_for_data_analyst_homeworks/blob/main/%22hw_6_2_%D0%A1%D1%82%D0%B0%D1%82%D0%B8%D1%81%D1%82%D0%B8%D1%87%D0%BD%D1%96_%D1%82%D0%B5%D1%81%D1%82%D0%B8%22.ipynb\" target=\"_parent\"><img src=\"https://colab.research.google.com/assets/colab-badge.svg\" alt=\"Open In Colab\"/></a>"
      ]
    },
    {
      "cell_type": "markdown",
      "id": "e152f6d6",
      "metadata": {
        "ExecuteTime": {
          "end_time": "2022-12-10T14:29:24.703416Z",
          "start_time": "2022-12-10T14:29:24.688485Z"
        },
        "id": "e152f6d6"
      },
      "source": [
        "## Домашнє завдання 6: Статистичні тести"
      ]
    },
    {
      "cell_type": "code",
      "source": [
        "from google.colab import drive\n",
        "drive.mount('/content/drive')"
      ],
      "metadata": {
        "colab": {
          "base_uri": "https://localhost:8080/"
        },
        "id": "bGwfVJ8pa1s6",
        "outputId": "5fe1f161-b489-4a7d-9980-f0cebba9d608"
      },
      "id": "bGwfVJ8pa1s6",
      "execution_count": 1,
      "outputs": [
        {
          "output_type": "stream",
          "name": "stdout",
          "text": [
            "Mounted at /content/drive\n"
          ]
        }
      ]
    },
    {
      "cell_type": "markdown",
      "id": "cd404683",
      "metadata": {
        "id": "cd404683"
      },
      "source": [
        "0. Зчитайте дані з `data.csv` та запишіть значення колонки data у форматі np.ndarray в змінну data. Ми будемо далі працювати з цією змінною."
      ]
    },
    {
      "cell_type": "code",
      "source": [
        "import numpy as np\n",
        "import pandas as pd"
      ],
      "metadata": {
        "id": "a8M1Xqa3hInl"
      },
      "id": "a8M1Xqa3hInl",
      "execution_count": 2,
      "outputs": []
    },
    {
      "cell_type": "code",
      "source": [
        "df = pd.read_csv('drive/MyDrive/Dataset/data.csv')"
      ],
      "metadata": {
        "id": "Tc7wxiXTbiBw"
      },
      "id": "Tc7wxiXTbiBw",
      "execution_count": 3,
      "outputs": []
    },
    {
      "cell_type": "code",
      "source": [
        "data = np.array(df['data'])"
      ],
      "metadata": {
        "id": "1ygvUn80cqXR"
      },
      "id": "1ygvUn80cqXR",
      "execution_count": 4,
      "outputs": []
    },
    {
      "cell_type": "code",
      "source": [
        "type(data)"
      ],
      "metadata": {
        "colab": {
          "base_uri": "https://localhost:8080/"
        },
        "id": "zQa3tiwodWj6",
        "outputId": "ee6ed8fa-08a8-4735-9201-da1ef4c3904a"
      },
      "id": "zQa3tiwodWj6",
      "execution_count": 5,
      "outputs": [
        {
          "output_type": "execute_result",
          "data": {
            "text/plain": [
              "numpy.ndarray"
            ]
          },
          "metadata": {},
          "execution_count": 5
        }
      ]
    },
    {
      "cell_type": "markdown",
      "id": "3d06cbbf",
      "metadata": {
        "id": "3d06cbbf"
      },
      "source": [
        "Запустіть код нижче. Для коректної робити всіх подальших методів дані мають бути у вигляді одновимірного вектора, тобто мати розмір (100,)."
      ]
    },
    {
      "cell_type": "code",
      "source": [
        "data.shape"
      ],
      "metadata": {
        "id": "Rc_cM9TfhJYI",
        "colab": {
          "base_uri": "https://localhost:8080/"
        },
        "outputId": "e92c4b03-3127-479b-9af0-62fcbbee23cb"
      },
      "id": "Rc_cM9TfhJYI",
      "execution_count": 6,
      "outputs": [
        {
          "output_type": "execute_result",
          "data": {
            "text/plain": [
              "(100,)"
            ]
          },
          "metadata": {},
          "execution_count": 6
        }
      ]
    },
    {
      "cell_type": "markdown",
      "id": "abdcef5d",
      "metadata": {
        "id": "abdcef5d"
      },
      "source": [
        "1. Зчитані дані - це сума покупок в доларах наших покупців на сайті протягом липня 2022 року.\n",
        "\n",
        "До цього місяця, ми мали продажі в середньому на чек $20. Чи вийшло у нас статистично значущо **підвищити** середній чек за останній місяць?\n",
        "\n",
        "Оберіть статистичний тест (z-test чи t-test). Виведіть p-значення статистичного тесту та зробіть висновок, чи ми маємо зараз статистично значущу різницю у розмірі середнього чеку.\n",
        "\n",
        "**Підказка**: тут тест буде одновибірковий."
      ]
    },
    {
      "cell_type": "code",
      "source": [
        "from statsmodels.stats.weightstats import ztest"
      ],
      "metadata": {
        "id": "XhxcSbYqhLz9"
      },
      "id": "XhxcSbYqhLz9",
      "execution_count": 7,
      "outputs": []
    },
    {
      "cell_type": "code",
      "source": [
        "null_mean = 20\n",
        "ztest_Score, p_value = ztest(data, value = null_mean, alternative='larger')"
      ],
      "metadata": {
        "id": "zJMpCn4lgqCN"
      },
      "id": "zJMpCn4lgqCN",
      "execution_count": 8,
      "outputs": []
    },
    {
      "cell_type": "code",
      "source": [
        "ztest_Score, p_value"
      ],
      "metadata": {
        "colab": {
          "base_uri": "https://localhost:8080/"
        },
        "id": "-rYpR5W5hRFx",
        "outputId": "c37cdfe8-4edc-4255-a46d-9a1f91cfbea7"
      },
      "id": "-rYpR5W5hRFx",
      "execution_count": 9,
      "outputs": [
        {
          "output_type": "execute_result",
          "data": {
            "text/plain": [
              "(-0.9953477389335053, 0.8402164165464012)"
            ]
          },
          "metadata": {},
          "execution_count": 9
        }
      ]
    },
    {
      "cell_type": "markdown",
      "source": [
        "Статистика для вибірки по z-критерію становить -0.995, а відповідне p-value дорівнює 0.840.\n",
        "\n",
        "Оскільки p-value > 0.05, то ми не можемо відкинути нульову гіпотезу. Тобто немає статистично значущої різниці між середніми чеками за липень 2022 року та попередні місяці."
      ],
      "metadata": {
        "id": "1lgVY6-VjfmC"
      },
      "id": "1lgVY6-VjfmC"
    },
    {
      "cell_type": "code",
      "source": [
        "alpha = 0.05\n",
        "if (p_value <  alpha):\n",
        "    print(\"Відхилити Н0.\")\n",
        "else:\n",
        "    print(\"Н0 не може бути відхилена.\")"
      ],
      "metadata": {
        "colab": {
          "base_uri": "https://localhost:8080/"
        },
        "id": "9llAwPsDh2pf",
        "outputId": "df3c69c7-7cf0-4618-8217-4edc0127d9d5"
      },
      "id": "9llAwPsDh2pf",
      "execution_count": 10,
      "outputs": [
        {
          "output_type": "stream",
          "name": "stdout",
          "text": [
            "Н0 не може бути відхилена.\n"
          ]
        }
      ]
    },
    {
      "cell_type": "markdown",
      "id": "05219e41",
      "metadata": {
        "ExecuteTime": {
          "end_time": "2022-12-10T14:52:46.140204Z",
          "start_time": "2022-12-10T14:52:46.112068Z"
        },
        "id": "05219e41"
      },
      "source": [
        "2. Пройшов час, і ми зібрали дані про продажі за серпень 2022 року, які зберігли у файл `data_2.csv`. Продажів було дещо більше, але чи змінився стат. значущо середній чек порівняно з липнем 2022? Перевірте це використовуючи ztest.\n",
        "\n",
        "  Виведіть p-значення статистичного тесту та зробіть висновок, чи ми маємо зараз статистично значущу різницю у розмірі середнього чека між двома місяцями.\n",
        "\n",
        "  **Підказка**: треба провести двовибірковий ztest з Н0 - що середні значення в липні та серпні 2022 року - однакові. Для кращого розуміння ситуації, можливо вам буде цікаво переглянути, які середні показники чеку були в кожен з місяців. Порівняйте свій висновок з простого спостереження середніх значень і висновок статистичного тесту. Чи вони збігаються?"
      ]
    },
    {
      "cell_type": "code",
      "source": [
        "df_2 = pd.read_csv('drive/MyDrive/Dataset/data_2.csv')\n",
        "data_2 = np.array(df_2['data'])"
      ],
      "metadata": {
        "id": "hbs7LPI4hP-6"
      },
      "id": "hbs7LPI4hP-6",
      "execution_count": 11,
      "outputs": []
    },
    {
      "cell_type": "code",
      "source": [
        "type(data_2)"
      ],
      "metadata": {
        "colab": {
          "base_uri": "https://localhost:8080/"
        },
        "id": "vGGWoXXRkqYm",
        "outputId": "e49c88ab-c384-42ac-9c58-c418f14d69b8"
      },
      "id": "vGGWoXXRkqYm",
      "execution_count": 12,
      "outputs": [
        {
          "output_type": "execute_result",
          "data": {
            "text/plain": [
              "numpy.ndarray"
            ]
          },
          "metadata": {},
          "execution_count": 12
        }
      ]
    },
    {
      "cell_type": "code",
      "source": [
        "data_2.shape"
      ],
      "metadata": {
        "colab": {
          "base_uri": "https://localhost:8080/"
        },
        "id": "MFsciBA3kuY9",
        "outputId": "d88e81c7-deac-44fa-cb11-aa2058d6b653"
      },
      "id": "MFsciBA3kuY9",
      "execution_count": 13,
      "outputs": [
        {
          "output_type": "execute_result",
          "data": {
            "text/plain": [
              "(120,)"
            ]
          },
          "metadata": {},
          "execution_count": 13
        }
      ]
    },
    {
      "cell_type": "code",
      "source": [
        "np.mean(data), np.mean(data_2)"
      ],
      "metadata": {
        "colab": {
          "base_uri": "https://localhost:8080/"
        },
        "id": "ijM2HobfkzF_",
        "outputId": "0fa9127c-2ca0-40ce-91a2-7290c225683d"
      },
      "id": "ijM2HobfkzF_",
      "execution_count": 14,
      "outputs": [
        {
          "output_type": "execute_result",
          "data": {
            "text/plain": [
              "(19.37755319670441, 19.37322276512519)"
            ]
          },
          "metadata": {},
          "execution_count": 14
        }
      ]
    },
    {
      "cell_type": "code",
      "source": [
        "ztest(data, data_2, value=0)"
      ],
      "metadata": {
        "colab": {
          "base_uri": "https://localhost:8080/"
        },
        "id": "9sGAf1vOk7Wv",
        "outputId": "3c001815-abc3-41ec-b9ae-fdfd8c28c629"
      },
      "id": "9sGAf1vOk7Wv",
      "execution_count": 15,
      "outputs": [
        {
          "output_type": "execute_result",
          "data": {
            "text/plain": [
              "(0.005246673456808504, 0.9958137794593356)"
            ]
          },
          "metadata": {},
          "execution_count": 15
        }
      ]
    },
    {
      "cell_type": "markdown",
      "source": [
        "Р-значення є надзвичайно високим. Таке p-значення значно перевищує звичний рівень значущості (0.05). Це свідчить про те, що немає статистично значущих доказів для відхилення нульової гіпотези. Тобто, дані не вказують на істотну різницю між цими двома наборами.\n",
        "\n",
        "Значення z-статистики близьке до нуля. Це означає, що середні значення двох наборів даних дуже схожі.\n",
        "\n",
        "Отже немає істотної різниці між середніми значеннями цих наборів даних."
      ],
      "metadata": {
        "id": "OQNo03SZphJF"
      },
      "id": "OQNo03SZphJF"
    },
    {
      "cell_type": "code",
      "source": [],
      "metadata": {
        "id": "k4mqkpGlmd78"
      },
      "id": "k4mqkpGlmd78",
      "execution_count": null,
      "outputs": []
    }
  ],
  "metadata": {
    "hide_input": false,
    "kernelspec": {
      "display_name": "Python 3 (ipykernel)",
      "language": "python",
      "name": "python3"
    },
    "language_info": {
      "codemirror_mode": {
        "name": "ipython",
        "version": 3
      },
      "file_extension": ".py",
      "mimetype": "text/x-python",
      "name": "python",
      "nbconvert_exporter": "python",
      "pygments_lexer": "ipython3",
      "version": "3.11.3"
    },
    "toc": {
      "base_numbering": 1,
      "nav_menu": {},
      "number_sections": true,
      "sideBar": true,
      "skip_h1_title": false,
      "title_cell": "Table of Contents",
      "title_sidebar": "Contents",
      "toc_cell": false,
      "toc_position": {},
      "toc_section_display": true,
      "toc_window_display": false
    },
    "varInspector": {
      "cols": {
        "lenName": 16,
        "lenType": 16,
        "lenVar": 40
      },
      "kernels_config": {
        "python": {
          "delete_cmd_postfix": "",
          "delete_cmd_prefix": "del ",
          "library": "var_list.py",
          "varRefreshCmd": "print(var_dic_list())"
        },
        "r": {
          "delete_cmd_postfix": ") ",
          "delete_cmd_prefix": "rm(",
          "library": "var_list.r",
          "varRefreshCmd": "cat(var_dic_list()) "
        }
      },
      "types_to_exclude": [
        "module",
        "function",
        "builtin_function_or_method",
        "instance",
        "_Feature"
      ],
      "window_display": false
    },
    "colab": {
      "provenance": [],
      "include_colab_link": true
    }
  },
  "nbformat": 4,
  "nbformat_minor": 5
}